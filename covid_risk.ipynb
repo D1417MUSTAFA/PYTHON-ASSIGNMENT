{
  "nbformat": 4,
  "nbformat_minor": 0,
  "metadata": {
    "colab": {
      "name": "Untitled12.ipynb",
      "provenance": [],
      "collapsed_sections": []
    },
    "kernelspec": {
      "name": "python3",
      "display_name": "Python 3"
    },
    "language_info": {
      "name": "python"
    }
  },
  "cells": [
    {
      "cell_type": "code",
      "metadata": {
        "id": "d5-Qm8ORsASG"
      },
      "source": [
        "#Problem :\n",
        "\n",
        "#Task : Estimating the risk of death from coronavirus. Write a program that;\n",
        "\n",
        "#Takes \"Yes\" or \"No\" from the user as an answer to the following questions :\n",
        "\n",
        "#Are you a cigarette addict older than 75 years old? Variable → age\n",
        "\n",
        "#Do you have a severe chronic disease? Variable → chronic\n",
        "\n",
        "#Is your immune system too weak? Variable → immune\n",
        "\n",
        "#Set a logical algorithm using boolean logic operators (and/or) and use if-statements with the given variables in order to print out us a message : \"You are in risky group\"(if True ) or \"You are not in risky group\" (if False).\n",
        "#age =  # can be assigned only True/False\n",
        "#chronic =  # can be assigned only True/False\n",
        "#immune =  # can be assigned only True/False\n",
        "#risk = ?"
      ],
      "execution_count": null,
      "outputs": []
    },
    {
      "cell_type": "code",
      "metadata": {
        "id": "tp-SOUn9tdlP"
      },
      "source": [
        ""
      ],
      "execution_count": null,
      "outputs": []
    },
    {
      "cell_type": "code",
      "metadata": {
        "colab": {
          "base_uri": "https://localhost:8080/"
        },
        "id": "z_g7y5yIteuk",
        "outputId": "51250760-c88f-4091-d19f-82ee6a5a924b"
      },
      "source": [
        "#Cozum :\n",
        "\n",
        "age_addict = input(\" Are you a cigarette addict and older than 75 years old? Variable: \"  )\n",
        "\n",
        "chronic = input(\"Do you have a severe chronic disease? Variable : \") \n",
        "\n",
        "immune = input(\"Is your immune system too weak? Variable: \")\n",
        "\n",
        "if (age_addict == \"yes\" or chronic == \"yes\" or immune == \"yes\") :\n",
        "   print(\"You are in risky group\")\n",
        "else:\n",
        "   print(\"You are not in risky group\")\n"
      ],
      "execution_count": 47,
      "outputs": [
        {
          "output_type": "stream",
          "name": "stdout",
          "text": [
            " Are you a cigarette addict and older than 75 years old? Variable: no\n",
            "Do you have a severe chronic disease? Variable : yes\n",
            "Is your immune system too weak? Variable: no\n",
            "You are in risky group\n"
          ]
        }
      ]
    }
  ]
}