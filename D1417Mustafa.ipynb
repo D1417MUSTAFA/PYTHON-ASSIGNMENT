{
  "nbformat": 4,
  "nbformat_minor": 0,
  "metadata": {
    "colab": {
      "name": "D1417Mustafa.ipynb",
      "provenance": [],
      "collapsed_sections": []
    },
    "kernelspec": {
      "name": "python3",
      "display_name": "Python 3"
    },
    "language_info": {
      "name": "python"
    }
  },
  "cells": [
    {
      "cell_type": "code",
      "metadata": {
        "colab": {
          "base_uri": "https://localhost:8080/",
          "height": 0
        },
        "id": "4A2PGlx_Pa08",
        "outputId": "f20966f5-2583-494c-dd47-ec9b73b3f6f0"
      },
      "source": [
        "user_name = \"D1417MUSTAFA\"\n",
        "user_password = 10106868\n",
        "input_name = input(\"Please enter your user name: \").upper()\n",
        "if user_name == input_name:\n",
        "  print(\"Hello! Mustafa.The user password is : 10106868\")\n",
        "\n",
        "else: \n",
        "  print(f\"Hello!, {input_name}.See you later\")\n",
        "\n"
      ],
      "execution_count": 11,
      "outputs": [
        {
          "output_type": "stream",
          "name": "stdout",
          "text": [
            "Please enter your user name: d1417mustafa\n",
            "Hello! Mustafa.The user password is : 10106868\n"
          ]
        }
      ]
    }
  ]
}