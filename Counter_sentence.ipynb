{
  "nbformat": 4,
  "nbformat_minor": 0,
  "metadata": {
    "colab": {
      "name": "Counter_sentence.ipynb",
      "provenance": [],
      "collapsed_sections": []
    },
    "kernelspec": {
      "name": "python3",
      "display_name": "Python 3"
    },
    "language_info": {
      "name": "python"
    }
  },
  "cells": [
    {
      "cell_type": "code",
      "execution_count": null,
      "metadata": {
        "id": "TPC7E84fP7PE"
      },
      "outputs": [],
      "source": [
        "# Task:\n",
        "\n",
        "# Count the number of each letter in a sentence.\n",
        "# The department you work for undertook a project construction that makes word / text analysis. You are asked to calculate the number of letters or any chars in the sentences entered under this project.\n",
        "# Write a Python program that;\n",
        "# takes a sentence from the user,\n",
        "# counts the number of each letter of the sentence,\n",
        "# collects the letters/chars as a key and the counted numbers as a value in a dictionary.\n",
        "\n",
        "# Examples\n",
        "# Sample inputs\tOutputs\n",
        "# hippo runs to us!\t\n",
        "# {'s': 2, 'r': 1, 't': 1, 'h': 1, 'n': 1, \n",
        "# 'i': 1, 'u': 2, 'o': 2, 'p': 2, ' ': 3, '!': 1}\n",
        "\n",
        "\n",
        "# Note that; this question is famous on the web, so that do it yourself to get more benefits from it. By the way, Do not use try - except block."
      ]
    },
    {
      "cell_type": "code",
      "source": [
        "import collections\n",
        "  \n",
        "  "
      ],
      "metadata": {
        "id": "WBgI6LQqQ071"
      },
      "execution_count": 13,
      "outputs": []
    },
    {
      "cell_type": "code",
      "source": [
        "from collections import Counter"
      ],
      "metadata": {
        "id": "X-ERuq1aXK-0"
      },
      "execution_count": 14,
      "outputs": []
    },
    {
      "cell_type": "code",
      "source": [
        "sentence = input(\"Enter a sentence : \")\n",
        "print(Counter(sentence))\n"
      ],
      "metadata": {
        "colab": {
          "base_uri": "https://localhost:8080/"
        },
        "id": "shY_b3LOXdfd",
        "outputId": "737f8729-71fb-49fc-f3aa-68ddad93efec"
      },
      "execution_count": 27,
      "outputs": [
        {
          "output_type": "stream",
          "name": "stdout",
          "text": [
            "Enter a sentence : hippo runs to us!\n",
            "Counter({' ': 3, 'p': 2, 'o': 2, 'u': 2, 's': 2, 'h': 1, 'i': 1, 'r': 1, 'n': 1, 't': 1, '!': 1})\n"
          ]
        }
      ]
    },
    {
      "cell_type": "code",
      "source": [
        "from collections import Counter\n",
        "print(Counter('hippo runs to us!'))"
      ],
      "metadata": {
        "colab": {
          "base_uri": "https://localhost:8080/"
        },
        "outputId": "dca0685c-47c4-49a3-c815-2071e457fa88",
        "id": "NFC1GQgVZ9VL"
      },
      "execution_count": 28,
      "outputs": [
        {
          "output_type": "stream",
          "name": "stdout",
          "text": [
            "Counter({' ': 3, 'p': 2, 'o': 2, 'u': 2, 's': 2, 'h': 1, 'i': 1, 'r': 1, 'n': 1, 't': 1, '!': 1})\n"
          ]
        }
      ]
    },
    {
      "cell_type": "code",
      "source": [
        "from collections import Counter\n",
        "print(Counter('hippo runs to us!'))"
      ],
      "metadata": {
        "colab": {
          "base_uri": "https://localhost:8080/"
        },
        "outputId": "100d5bfd-1537-4727-d86b-7bf1bfa12e4c",
        "id": "CC-4IdTCZ8pK"
      },
      "execution_count": 29,
      "outputs": [
        {
          "output_type": "stream",
          "name": "stdout",
          "text": [
            "Counter({' ': 3, 'p': 2, 'o': 2, 'u': 2, 's': 2, 'h': 1, 'i': 1, 'r': 1, 'n': 1, 't': 1, '!': 1})\n"
          ]
        }
      ]
    },
    {
      "cell_type": "code",
      "source": [
        "from collections import Counter\n",
        "print(Counter('hippo runs to us!s'))"
      ],
      "metadata": {
        "colab": {
          "base_uri": "https://localhost:8080/"
        },
        "id": "tBoWOUMeYs0L",
        "outputId": "1974c025-c0d2-4b45-b237-77927540fa2c"
      },
      "execution_count": 30,
      "outputs": [
        {
          "output_type": "stream",
          "name": "stdout",
          "text": [
            "Counter({' ': 3, 's': 3, 'p': 2, 'o': 2, 'u': 2, 'h': 1, 'i': 1, 'r': 1, 'n': 1, 't': 1, '!': 1})\n"
          ]
        }
      ]
    }
  ]
}