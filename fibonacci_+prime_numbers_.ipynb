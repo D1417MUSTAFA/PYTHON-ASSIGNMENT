{
  "nbformat": 4,
  "nbformat_minor": 0,
  "metadata": {
    "colab": {
      "name": "fibonacci +prime_numbers .ipynb",
      "provenance": [],
      "collapsed_sections": []
    },
    "kernelspec": {
      "name": "python3",
      "display_name": "Python 3"
    },
    "language_info": {
      "name": "python"
    }
  },
  "cells": [
    {
      "cell_type": "markdown",
      "metadata": {
        "id": "DhY2M1Sw1UPk"
      },
      "source": [
        "FIBONACCI NUMBERS\n"
      ]
    },
    {
      "cell_type": "code",
      "metadata": {
        "id": "u1lnO9xV1RhO"
      },
      "source": [
        "Task : Create a list consisting of Fibonacci numbers from 1 to 55 using control flow statements.\n",
        "\n",
        "The desired output is like :\n",
        "\n",
        "fibonacci →  [1, 1, 2, 3, 5, 8, 13, 21, 34, 55]\n"
      ],
      "execution_count": null,
      "outputs": []
    },
    {
      "cell_type": "code",
      "metadata": {
        "colab": {
          "base_uri": "https://localhost:8080/"
        },
        "id": "woT0FIpD1RX5",
        "outputId": "0c237b6e-e8f5-4576-fde0-6f895bba99d7"
      },
      "source": [
        "\n",
        "fibo_list = []\n",
        "a, b = 1, 1\n",
        "while a <= 55 :\n",
        "  fibo_list.append(a)\n",
        "  a, b = b, a + b\n",
        "  \n",
        "print(fibo_list)\n",
        "   \n",
        "\n",
        "\n",
        "\n",
        "\n",
        "\n"
      ],
      "execution_count": null,
      "outputs": [
        {
          "output_type": "stream",
          "name": "stdout",
          "text": [
            "[1, 1, 2, 3, 5, 8, 13, 21, 34, 55]\n"
          ]
        }
      ]
    },
    {
      "cell_type": "markdown",
      "metadata": {
        "id": "qfpF1xH21diT"
      },
      "source": [
        "PRIME NUMBERS"
      ]
    },
    {
      "cell_type": "code",
      "metadata": {
        "colab": {
          "base_uri": "https://localhost:8080/"
        },
        "id": "xjmZx8pDagGS",
        "outputId": "db0c0df3-5c26-4020-8b0d-528557e3fdc4"
      },
      "source": [
        "list1 = [] # assign an empty list for numbers which divisible a number that not include \"1\" and \"itself\"\n",
        "number1 = int(input(\"Please enter a number : \"))\n",
        "for i in range(2, number1): # 2,3,4,5,6...(number1 - 1) so i did not take 1 and the number1 in the list\n",
        "    if number1 % i == 0 :   # if i can  divisible the number1 than i will add it list1 with append\n",
        "      list1.append(i)\n",
        "\n",
        "        \n",
        "if list1 == [] and number1 > 1:   # if my list empty so the number1 only can divide \"1\" and \"itself\" \n",
        "  print(\"This number is prime number\")\n",
        "else:\n",
        "  print(\"This number is not prime number\") \n",
        "\n",
        "       \n"
      ],
      "execution_count": null,
      "outputs": [
        {
          "output_type": "stream",
          "name": "stdout",
          "text": [
            "Please enter a number : 11\n",
            "This number is prime number\n"
          ]
        }
      ]
    },
    {
      "cell_type": "code",
      "metadata": {
        "id": "MdMvvaRP1ND1"
      },
      "source": [
        ""
      ],
      "execution_count": null,
      "outputs": []
    },
    {
      "cell_type": "code",
      "metadata": {
        "id": "iu6eaRqi1HwM"
      },
      "source": [
        ""
      ],
      "execution_count": null,
      "outputs": []
    },
    {
      "cell_type": "code",
      "metadata": {
        "id": "VNJPvhVs0_bH"
      },
      "source": [
        ""
      ],
      "execution_count": null,
      "outputs": []
    },
    {
      "cell_type": "code",
      "metadata": {
        "id": "lIdh0tEd0_62"
      },
      "source": [
        ""
      ],
      "execution_count": null,
      "outputs": []
    },
    {
      "cell_type": "code",
      "metadata": {
        "id": "fsPC7Whj0__A"
      },
      "source": [
        ""
      ],
      "execution_count": null,
      "outputs": []
    },
    {
      "cell_type": "code",
      "metadata": {
        "id": "BSAejuKZ1ACQ"
      },
      "source": [
        ""
      ],
      "execution_count": null,
      "outputs": []
    },
    {
      "cell_type": "code",
      "metadata": {
        "id": "54hI5aAM090M"
      },
      "source": [
        ""
      ],
      "execution_count": null,
      "outputs": []
    }
  ]
}