{
  "nbformat": 4,
  "nbformat_minor": 0,
  "metadata": {
    "colab": {
      "name": "prime_number.ipynb",
      "provenance": [],
      "collapsed_sections": []
    },
    "kernelspec": {
      "name": "python3",
      "display_name": "Python 3"
    },
    "language_info": {
      "name": "python"
    }
  },
  "cells": [
    {
      "cell_type": "code",
      "metadata": {
        "colab": {
          "base_uri": "https://localhost:8080/"
        },
        "id": "xjmZx8pDagGS",
        "outputId": "d83901f5-5794-4519-a4ad-3aeffdd3008f"
      },
      "source": [
        "list1 = [] # assign an empty list for numbers which divisible a number that not include \"1\" and \"itself\"\n",
        "number1 = int(input(\"Please enter a number : \"))\n",
        "for i in range(2, number1): # 2,3,4,5,6...(number1 - 1) so i did not take 1 and the number1 in the list\n",
        "    if number1 % i == 0 :   # if i can  divisible the number1 than i will add it list1 with append\n",
        "      list1.append(i)\n",
        "\n",
        "        \n",
        "if list1 == [] and number1 > 1:   # if my list empty so the number1 only can divide \"1\" and \"itself\" \n",
        "  print(\"This number is prime number\")\n",
        "else:\n",
        "  print(\"This number is not prime number\") \n",
        "\n",
        "       \n"
      ],
      "execution_count": 4,
      "outputs": [
        {
          "output_type": "stream",
          "name": "stdout",
          "text": [
            "Enter a number.Please... : 11\n",
            "This number is prime number\n"
          ]
        }
      ]
    }
  ]
}